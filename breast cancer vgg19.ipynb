{
 "cells": [
  {
   "cell_type": "code",
   "execution_count": 1,
   "id": "bdea62ca",
   "metadata": {},
   "outputs": [],
   "source": [
    "%matplotlib inline\n",
    "from IPython import display\n",
    "import os\n",
    "import math\n",
    "import pandas as pd\n",
    "import matplotlib.pyplot as plt\n",
    "import numpy as np\n",
    "import tensorflow as tf\n",
    "from sklearn.metrics import *\n",
    "from tensorflow import keras\n",
    "from keras.preprocessing.image import ImageDataGenerator\n",
    "np.random.seed(42)\n",
    "tf.random.set_seed(42)"
   ]
  },
  {
   "cell_type": "code",
   "execution_count": 2,
   "id": "921b8762",
   "metadata": {},
   "outputs": [],
   "source": [
    "#Setting some inital parameters\n",
    "height, width = 224, 224\n",
    "batch_size=64"
   ]
  },
  {
   "cell_type": "code",
   "execution_count": 3,
   "id": "804b701e",
   "metadata": {},
   "outputs": [
    {
     "name": "stdout",
     "output_type": "stream",
     "text": [
      "Found 849 images belonging to 2 classes.\n",
      "Found 211 images belonging to 2 classes.\n",
      "\n",
      "\n",
      " {'breast_tumor_benign': 566, 'breast_tumor_malignant': 494}\n"
     ]
    }
   ],
   "source": [
    "data_dir = 'C:/pythonn/breast_cancer_data/'\n",
    "batch_size = 32\n",
    "\n",
    "def image_generator(height, width):\n",
    "    datagen = ImageDataGenerator(\n",
    "        rescale=1./255.,\n",
    "        validation_split=0.2\n",
    "    )\n",
    "\n",
    "    train_ds = datagen.flow_from_directory(\n",
    "        data_dir,\n",
    "        batch_size=batch_size,\n",
    "        subset=\"training\",\n",
    "        shuffle=True,\n",
    "        class_mode='binary',\n",
    "        target_size=(height, width),\n",
    "        classes={'BENIGN': 0., 'MALIGNANT': 1.}\n",
    "    )\n",
    "\n",
    "    val_ds = datagen.flow_from_directory(\n",
    "        data_dir,\n",
    "        subset=\"validation\",\n",
    "        class_mode='binary',\n",
    "        target_size=(height, width),\n",
    "        batch_size=batch_size,\n",
    "        classes={'BENIGN': 0., 'MALIGNANT': 1.}\n",
    "    )\n",
    "\n",
    "    return train_ds, val_ds\n",
    "\n",
    "train_ds, val_ds = image_generator(height, width)\n",
    "\n",
    "total_image = np.concatenate([train_ds.labels, val_ds.labels])\n",
    "print('\\n\\n', {\n",
    "    'breast_tumor_benign': len(np.where(total_image == 0)[0]),\n",
    "    'breast_tumor_malignant': len(np.where(total_image == 1)[0])\n",
    "})"
   ]
  },
  {
   "cell_type": "code",
   "execution_count": 4,
   "id": "c487041e",
   "metadata": {},
   "outputs": [
    {
     "name": "stdout",
     "output_type": "stream",
     "text": [
      "Model: \"sequential\"\n",
      "_________________________________________________________________\n",
      " Layer (type)                Output Shape              Param #   \n",
      "=================================================================\n",
      " vgg19 (Functional)          (None, 7, 7, 512)         20024384  \n",
      "                                                                 \n",
      " flatten (Flatten)           (None, 25088)             0         \n",
      "                                                                 \n",
      " dense (Dense)               (None, 1)                 25089     \n",
      "                                                                 \n",
      "=================================================================\n",
      "Total params: 20,049,473\n",
      "Trainable params: 25,089\n",
      "Non-trainable params: 20,024,384\n",
      "_________________________________________________________________\n"
     ]
    }
   ],
   "source": [
    "from tensorflow.keras.layers.experimental import preprocessing\n",
    "tf.keras.backend.clear_session()\n",
    "input_shape = (height, width, 3)\n",
    "base_model = tf.keras.applications.vgg19.VGG19(\n",
    "    weights='imagenet', \n",
    "    include_top=False,\n",
    "    input_shape=input_shape\n",
    ")\n",
    "base_model.trainable = False\n",
    "model_vgg19 = tf.keras.Sequential()\n",
    "model_vgg19.add(base_model)\n",
    "model_vgg19.add(tf.keras.layers.Flatten())\n",
    "model_vgg19.add(tf.keras.layers.Dense(1, activation='sigmoid'))\n",
    "model_vgg19.compile(loss='binary_crossentropy', \n",
    "              optimizer=tf.keras.optimizers.Adam(0.01),\n",
    "              metrics=['acc'])\n",
    "model_vgg19.summary()"
   ]
  },
  {
   "cell_type": "code",
   "execution_count": null,
   "id": "ac5fa612",
   "metadata": {},
   "outputs": [
    {
     "name": "stdout",
     "output_type": "stream",
     "text": [
      "Epoch 1/5\n",
      "15/27 [===============>..............] - ETA: 1:31 - loss: 8.1741 - acc: 0.4839"
     ]
    }
   ],
   "source": [
    "checkpoint = tf.keras.callbacks.ModelCheckpoint('model/vgg19_best.h5', monitor='acc', \n",
    "                                                verbose=1, mode='max',save_best_only=True)\n",
    "early = tf.keras.callbacks.EarlyStopping(monitor=\"acc\", mode=\"max\",restore_best_weights=True, \n",
    "                                         patience=5)\n",
    "callbacks_list = [checkpoint,early]\n",
    "history = model_vgg19.fit(\n",
    "        train_ds,\n",
    "        validation_data=val_ds,\n",
    "        epochs=5, \n",
    "        shuffle=True, \n",
    "        verbose=True,\n",
    "        callbacks=callbacks_list)"
   ]
  },
  {
   "cell_type": "code",
   "execution_count": null,
   "id": "5581353c",
   "metadata": {},
   "outputs": [],
   "source": [
    "train_result = model_vgg19.evaluate(train_ds)\n",
    "val_result = model_vgg19.evaluate(val_ds)\n",
    "no_augmented_df = pd.DataFrame(zip(train_result,val_result),\n",
    "                               columns=['Train','Val'],index=['Loss','Acc'])\n",
    "no_augmented_df"
   ]
  },
  {
   "cell_type": "code",
   "execution_count": null,
   "id": "58c79c94",
   "metadata": {},
   "outputs": [],
   "source": [
    "# plot learning curve\n",
    "def plot_learning_curve(history):\n",
    "    acc = history.history['acc']\n",
    "    val_acc = history.history['val_acc']\n",
    "    loss = history.history['loss']\n",
    "    val_loss = history.history['val_loss']\n",
    "    epochs = range(len(acc))\n",
    "    plt.plot(epochs, acc, label='training acc')\n",
    "    plt.plot(epochs, val_acc, label='validation acc')\n",
    "    plt.xlabel('Epochs')\n",
    "    plt.ylabel('Accuracy-%')\n",
    "    plt.legend()\n",
    "    plt.figure()\n",
    "    plt.plot(epochs, loss, label='training loss')\n",
    "    plt.plot(epochs, val_loss, label='validation loss')\n",
    "    plt.xlabel('Epochs')\n",
    "    plt.ylabel('Loss')\n",
    "    plt.legend()\n",
    "\n",
    "plot_learning_curve(history)"
   ]
  }
 ],
 "metadata": {
  "kernelspec": {
   "display_name": "Python 3 (ipykernel)",
   "language": "python",
   "name": "python3"
  },
  "language_info": {
   "codemirror_mode": {
    "name": "ipython",
    "version": 3
   },
   "file_extension": ".py",
   "mimetype": "text/x-python",
   "name": "python",
   "nbconvert_exporter": "python",
   "pygments_lexer": "ipython3",
   "version": "3.8.4"
  }
 },
 "nbformat": 4,
 "nbformat_minor": 5
}
